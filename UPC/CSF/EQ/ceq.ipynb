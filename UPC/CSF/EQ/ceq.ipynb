{
 "cells": [
  {
   "cell_type": "code",
   "execution_count": 1,
   "metadata": {},
   "outputs": [],
   "source": [
    "import numpy as np\n",
    "import sympy as sp\n",
    "from matplotlib import pyplot as plt\n",
    "from IPython.display import display\n",
    "from scipy.special import erfc\n",
    "from rich.console import Console\n",
    "from rich.panel import Panel\n",
    "console=Console()\n",
    "sp.init_printing()"
   ]
  },
  {
   "cell_type": "code",
   "execution_count": 2,
   "metadata": {},
   "outputs": [
    {
     "data": {
      "image/png": "[encoded data removed]",
      "text/plain": [
       "<Figure size 640x480 with 1 Axes>"
      ]
     },
     "metadata": {},
     "output_type": "display_data"
    }
   ],
   "source": [
    "h = [0,0, -0.2, 1, 0, -0.2,-0.1, 0,0]\n",
    "t = np.arange(0, 9, 1) * 1e-6\n",
    "plt.plot(t, h)\n",
    "\n",
    "plt.grid()\n",
    "\n",
    "plt.show()"
   ]
  },
  {
   "cell_type": "code",
   "execution_count": 3,
   "metadata": {},
   "outputs": [],
   "source": [
    "def RB_without(h, t):\n",
    "    last_zero = len(h) - 1\n",
    "    max_idx = np.argmax(h)\n",
    "    j = 0\n",
    "    pj = -1\n",
    "    nodes = []\n",
    "    mnidx = 0\n",
    "    print(max_idx)\n",
    "    \n",
    "    for i in range(len(h)):\n",
    "        if h[i] == 0:\n",
    "            if j != pj:\n",
    "                nodes.append(i)\n",
    "                pj = j\n",
    "            nodes[-1] = i\n",
    "        elif i == max_idx:\n",
    "            nodes.append(i)\n",
    "            mnidx = len(nodes) - 1\n",
    "            j += 1\n",
    "        else:\n",
    "            j += 1\n",
    "    if max(np.diff(nodes)) == min(np.diff(nodes)):\n",
    "        return 1 / np.abs(t[nodes[1]] - t[nodes[0]]), (\n",
    "            max_idx - max(np.diff(nodes)),\n",
    "            max(np.diff(nodes)) + max_idx,\n",
    "        )\n",
    "    return 1 / np.abs(t[np.argmax(np.diff(nodes))] - t[max_idx]), (\n",
    "        max_idx - max(np.diff(nodes)),\n",
    "        max(np.diff(nodes)) + max_idx,\n",
    "    )"
   ]
  },
  {
   "cell_type": "code",
   "execution_count": 4,
   "metadata": {},
   "outputs": [
    {
     "name": "stdout",
     "output_type": "stream",
     "text": [
      "5\n",
      "2 8\n",
      "Rb without ISI: 200000.00000000003 bps\n",
      "Rb without ISI: 200.00000000000003 Kbps\n"
     ]
    },
    {
     "data": {
      "text/plain": [
       "(0, 6)"
      ]
     },
     "execution_count": 4,
     "metadata": {},
     "output_type": "execute_result"
    }
   ],
   "source": [
    "RB,(pzero,nzero) = RB_without(h[::-1],t)\n",
    "print(pzero,nzero)\n",
    "nzero,pzero = len(h)-pzero-1,len(h)-nzero-1\n",
    "print(f\"Rb without ISI: {RB} bps\")\n",
    "\n",
    "print(f\"Rb without ISI: {RB/1000} Kbps\")\n",
    "pzero,nzero"
   ]
  },
  {
   "cell_type": "markdown",
   "metadata": {},
   "source": [
    "# LTE"
   ]
  },
  {
   "cell_type": "markdown",
   "metadata": {},
   "source": [
    "## Params"
   ]
  },
  {
   "cell_type": "code",
   "execution_count": 5,
   "metadata": {},
   "outputs": [],
   "source": [
    "LTE=[3,2]"
   ]
  },
  {
   "cell_type": "code",
   "execution_count": 6,
   "metadata": {},
   "outputs": [],
   "source": [
    "def gen_coef(LTE, n):\n",
    "    return sp.symbols(\n",
    "        [\"C_{\" + str(i) + \"\\\\,\" + str(n) + \"}\" for i in range(1 - LTE[0], LTE[1] + 1)]\n",
    "    )"
   ]
  },
  {
   "cell_type": "code",
   "execution_count": 7,
   "metadata": {},
   "outputs": [],
   "source": [
    "def get_last_zero(harr):\n",
    "    return nzero"
   ]
  },
  {
   "cell_type": "code",
   "execution_count": 8,
   "metadata": {},
   "outputs": [],
   "source": [
    "def gen_y(h):\n",
    "    max_idx = np.argmax(h)\n",
    "    y = np.zeros(len(h))\n",
    "    y[max_idx] = 1\n",
    "    return y"
   ]
  },
  {
   "cell_type": "code",
   "execution_count": 9,
   "metadata": {},
   "outputs": [],
   "source": [
    "def gen_eq(harr, coef, yarr, nzero):\n",
    "    res = np.convolve(coef, harr)\n",
    "    res[nzero - 1] -= 1\n",
    "    return res"
   ]
  },
  {
   "cell_type": "code",
   "execution_count": 10,
   "metadata": {},
   "outputs": [],
   "source": [
    "coef = gen_coef(LTE, 0)\n",
    "yarr = gen_y(h)\n",
    "eqs = gen_eq(h,coef,yarr,nzero)"
   ]
  },
  {
   "cell_type": "code",
   "execution_count": 11,
   "metadata": {},
   "outputs": [
    {
     "data": {
      "image/png": "[encoded data removed]",
      "text/latex": [
       "$\\displaystyle 0$"
      ],
      "text/plain": [
       "0"
      ]
     },
     "metadata": {},
     "output_type": "display_data"
    },
    {
     "data": {
      "image/png": "[encoded data removed]",
      "text/latex": [
       "$\\displaystyle 0$"
      ],
      "text/plain": [
       "0"
      ]
     },
     "metadata": {},
     "output_type": "display_data"
    },
    {
     "data": {
      "image/png": "[encoded data removed]",
      "text/latex": [
       "$\\displaystyle - 0.2 C_{-2,0}$"
      ],
      "text/plain": [
       "-0.2⋅C_{-2,0}"
      ]
     },
     "metadata": {},
     "output_type": "display_data"
    },
    {
     "data": {
      "image/png": "[encoded data removed]",
      "text/latex": [
       "$\\displaystyle - 0.2 C_{-1,0} + 1.0 C_{-2,0}$"
      ],
      "text/plain": [
       "-0.2⋅C_{-1,0} + 1.0⋅C_{-2,0}"
      ]
     },
     "metadata": {},
     "output_type": "display_data"
    },
    {
     "data": {
      "image/png": "[encoded data removed]",
      "text/latex": [
       "$\\displaystyle 1.0 C_{-1,0} - 0.2 C_{0,0}$"
      ],
      "text/plain": [
       "1.0⋅C_{-1,0} - 0.2⋅C_{0,0}"
      ]
     },
     "metadata": {},
     "output_type": "display_data"
    },
    {
     "data": {
      "image/png": "[encoded data removed]",
      "text/latex": [
       "$\\displaystyle - 0.2 C_{-2,0} + 1.0 C_{0,0} - 0.2 C_{1,0} - 1$"
      ],
      "text/plain": [
       "-0.2⋅C_{-2,0} + 1.0⋅C_{0,0} - 0.2⋅C_{1,0} - 1"
      ]
     },
     "metadata": {},
     "output_type": "display_data"
    },
    {
     "data": {
      "image/png": "[encoded data removed]",
      "text/latex": [
       "$\\displaystyle - 0.2 C_{-1,0} - 0.1 C_{-2,0} + 1.0 C_{1,0} - 0.2 C_{2,0}$"
      ],
      "text/plain": [
       "-0.2⋅C_{-1,0} - 0.1⋅C_{-2,0} + 1.0⋅C_{1,0} - 0.2⋅C_{2,0}"
      ]
     },
     "metadata": {},
     "output_type": "display_data"
    },
    {
     "data": {
      "image/png": "[encoded data removed]",
      "text/latex": [
       "$\\displaystyle - 0.1 C_{-1,0} - 0.2 C_{0,0} + 1.0 C_{2,0}$"
      ],
      "text/plain": [
       "-0.1⋅C_{-1,0} - 0.2⋅C_{0,0} + 1.0⋅C_{2,0}"
      ]
     },
     "metadata": {},
     "output_type": "display_data"
    },
    {
     "data": {
      "image/png": "[encoded data removed]",
      "text/latex": [
       "$\\displaystyle - 0.1 C_{0,0} - 0.2 C_{1,0}$"
      ],
      "text/plain": [
       "-0.1⋅C_{0,0} - 0.2⋅C_{1,0}"
      ]
     },
     "metadata": {},
     "output_type": "display_data"
    },
    {
     "data": {
      "image/png": "[encoded data removed]",
      "text/latex": [
       "$\\displaystyle - 0.1 C_{1,0} - 0.2 C_{2,0}$"
      ],
      "text/plain": [
       "-0.1⋅C_{1,0} - 0.2⋅C_{2,0}"
      ]
     },
     "metadata": {},
     "output_type": "display_data"
    },
    {
     "data": {
      "image/png": "[encoded data removed]",
      "text/latex": [
       "$\\displaystyle - 0.1 C_{2,0}$"
      ],
      "text/plain": [
       "-0.1⋅C_{2,0}"
      ]
     },
     "metadata": {},
     "output_type": "display_data"
    },
    {
     "data": {
      "image/png": "[encoded data removed]",
      "text/latex": [
       "$\\displaystyle 0$"
      ],
      "text/plain": [
       "0"
      ]
     },
     "metadata": {},
     "output_type": "display_data"
    },
    {
     "data": {
      "image/png": "[encoded data removed]",
      "text/latex": [
       "$\\displaystyle 0$"
      ],
      "text/plain": [
       "0"
      ]
     },
     "metadata": {},
     "output_type": "display_data"
    }
   ],
   "source": [
    "for eq in eqs:\n",
    "    display(eq)"
   ]
  },
  {
   "cell_type": "code",
   "execution_count": 12,
   "metadata": {},
   "outputs": [],
   "source": [
    "def zero_forcing(eqs, coef, harr):\n",
    "    max_idx = np.argmax(harr)\n",
    "    cvals = [\n",
    "        sp.solve(eqs[i : i + len(coef)])\n",
    "        for i in range(max_idx - 1, len(eqs) - len(coef))\n",
    "    ]\n",
    "    cvals = [cval for cval in cvals if len(cval) == len(coef)]\n",
    "    errors = [np.abs(sum(eq.subs(cval) for eq in eqs if eq != 0)) for cval in cvals]\n",
    "    print(\"error for each set of coeficients:\", errors)\n",
    "    print(\"result for each set of equations:\")\n",
    "    for cval in cvals:\n",
    "        display(cval)\n",
    "    print(\"selected set of equations:\")\n",
    "    for eq in eqs[\n",
    "        max_idx - 1 + np.argmin(errors) : max_idx - 1 + np.argmin(errors) + len(coef)\n",
    "    ]:\n",
    "        display(eq)\n",
    "    return cvals[np.argmin(errors)]"
   ]
  },
  {
   "cell_type": "code",
   "execution_count": 13,
   "metadata": {},
   "outputs": [
    {
     "name": "stdout",
     "output_type": "stream",
     "text": [
      "error for each set of coeficients: [16.0000000000000, 0.205665024630542, 2.08465608465608, 2.09375000000000, 1]\n",
      "result for each set of equations:\n"
     ]
    },
    {
     "data": {
      "image/png": "[encoded data removed]",
      "text/latex": [
       "$\\displaystyle \\left\\{ C_{-1,0} : 0.0, \\  C_{-2,0} : 0.0, \\  C_{0,0} : 0.0, \\  C_{1,0} : -5.0, \\  C_{2,0} : -25.0\\right\\}$"
      ],
      "text/plain": [
       "{C_{-1,0}: 0.0, C_{-2,0}: 0.0, C_{0,0}: 0.0, C_{1,0}: -5.0, C_{2,0}: -25.0}"
      ]
     },
     "metadata": {},
     "output_type": "display_data"
    },
    {
     "data": {
      "image/png": "[encoded data removed]",
      "text/latex": [
       "$\\displaystyle \\left\\{ C_{-1,0} : 0.205254515599343, \\  C_{-2,0} : 0.0410509031198686, \\  C_{0,0} : 1.02627257799672, \\  C_{1,0} : 0.090311986863711, \\  C_{2,0} : 0.225779967159278\\right\\}$"
      ],
      "text/plain": [
       "{C_{-1,0}: 0.205254515599343, C_{-2,0}: 0.0410509031198686, C_{0,0}: 1.0262725\n",
       "7799672, C_{1,0}: 0.090311986863711, C_{2,0}: 0.225779967159278}"
      ]
     },
     "metadata": {},
     "output_type": "display_data"
    },
    {
     "data": {
      "image/png": "[encoded data removed]",
      "text/latex": [
       "$\\displaystyle \\left\\{ C_{-1,0} : 0.0881834215167548, \\  C_{-2,0} : -2.57495590828924, \\  C_{0,0} : 0.440917107583774, \\  C_{1,0} : -0.220458553791887, \\  C_{2,0} : 0.0970017636684303\\right\\}$"
      ],
      "text/plain": [
       "{C_{-1,0}: 0.0881834215167548, C_{-2,0}: -2.57495590828924, C_{0,0}: 0.4409171\n",
       "07583774, C_{1,0}: -0.220458553791887, C_{2,0}: 0.0970017636684303}"
      ]
     },
     "metadata": {},
     "output_type": "display_data"
    },
    {
     "data": {
      "image/png": "[encoded data removed]",
      "text/latex": [
       "$\\displaystyle \\left\\{ C_{-1,0} : 0.208333333333333, \\  C_{-2,0} : -2.70833333333333, \\  C_{0,0} : 0.416666666666667, \\  C_{1,0} : -0.208333333333333, \\  C_{2,0} : 0.104166666666667\\right\\}$"
      ],
      "text/plain": [
       "{C_{-1,0}: 0.208333333333333, C_{-2,0}: -2.70833333333333, C_{0,0}: 0.41666666\n",
       "6666667, C_{1,0}: -0.208333333333333, C_{2,0}: 0.104166666666667}"
      ]
     },
     "metadata": {},
     "output_type": "display_data"
    },
    {
     "data": {
      "image/png": "[encoded data removed]",
      "text/latex": [
       "$\\displaystyle \\left\\{ C_{-1,0} : 0.0, \\  C_{-2,0} : 0.0, \\  C_{0,0} : 0.0, \\  C_{1,0} : 0.0, \\  C_{2,0} : 0.0\\right\\}$"
      ],
      "text/plain": [
       "{C_{-1,0}: 0.0, C_{-2,0}: 0.0, C_{0,0}: 0.0, C_{1,0}: 0.0, C_{2,0}: 0.0}"
      ]
     },
     "metadata": {},
     "output_type": "display_data"
    },
    {
     "name": "stdout",
     "output_type": "stream",
     "text": [
      "selected set of equations:\n"
     ]
    },
    {
     "data": {
      "image/png": "[encoded data removed]",
      "text/latex": [
       "$\\displaystyle - 0.2 C_{-1,0} + 1.0 C_{-2,0}$"
      ],
      "text/plain": [
       "-0.2⋅C_{-1,0} + 1.0⋅C_{-2,0}"
      ]
     },
     "metadata": {},
     "output_type": "display_data"
    },
    {
     "data": {
      "image/png": "[encoded data removed]",
      "text/latex": [
       "$\\displaystyle 1.0 C_{-1,0} - 0.2 C_{0,0}$"
      ],
      "text/plain": [
       "1.0⋅C_{-1,0} - 0.2⋅C_{0,0}"
      ]
     },
     "metadata": {},
     "output_type": "display_data"
    },
    {
     "data": {
      "image/png": "[encoded data removed]",
      "text/latex": [
       "$\\displaystyle - 0.2 C_{-2,0} + 1.0 C_{0,0} - 0.2 C_{1,0} - 1$"
      ],
      "text/plain": [
       "-0.2⋅C_{-2,0} + 1.0⋅C_{0,0} - 0.2⋅C_{1,0} - 1"
      ]
     },
     "metadata": {},
     "output_type": "display_data"
    },
    {
     "data": {
      "image/png": "[encoded data removed]",
      "text/latex": [
       "$\\displaystyle - 0.2 C_{-1,0} - 0.1 C_{-2,0} + 1.0 C_{1,0} - 0.2 C_{2,0}$"
      ],
      "text/plain": [
       "-0.2⋅C_{-1,0} - 0.1⋅C_{-2,0} + 1.0⋅C_{1,0} - 0.2⋅C_{2,0}"
      ]
     },
     "metadata": {},
     "output_type": "display_data"
    },
    {
     "data": {
      "image/png": "[encoded data removed]",
      "text/latex": [
       "$\\displaystyle - 0.1 C_{-1,0} - 0.2 C_{0,0} + 1.0 C_{2,0}$"
      ],
      "text/plain": [
       "-0.1⋅C_{-1,0} - 0.2⋅C_{0,0} + 1.0⋅C_{2,0}"
      ]
     },
     "metadata": {},
     "output_type": "display_data"
    },
    {
     "data": {
      "image/png": "[encoded data removed]",
      "text/latex": [
       "$\\displaystyle \\left\\{ C_{-1,0} : 0.205254515599343, \\  C_{-2,0} : 0.0410509031198686, \\  C_{0,0} : 1.02627257799672, \\  C_{1,0} : 0.090311986863711, \\  C_{2,0} : 0.225779967159278\\right\\}$"
      ],
      "text/plain": [
       "{C_{-1,0}: 0.205254515599343, C_{-2,0}: 0.0410509031198686, C_{0,0}: 1.0262725\n",
       "7799672, C_{1,0}: 0.090311986863711, C_{2,0}: 0.225779967159278}"
      ]
     },
     "execution_count": 13,
     "metadata": {},
     "output_type": "execute_result"
    }
   ],
   "source": [
    "coef_0 = zero_forcing(eqs, coef, h)\n",
    "coef_0"
   ]
  },
  {
   "cell_type": "code",
   "execution_count": 30,
   "metadata": {},
   "outputs": [],
   "source": [
    "def peak_dist(eqs, coef_0, h):\n",
    "    max_idx = np.argmax(h)\n",
    "    DP = np.sum([np.abs(h) for n, h in enumerate(h) if n != max_idx]) / h[max_idx]\n",
    "    print(max_idx + get_last_zero(h))\n",
    "    DP_p = np.sum(\n",
    "        [\n",
    "            np.abs(eq.subs(coef_0))\n",
    "            for n, eq in enumerate(eqs)\n",
    "            if n != (max_idx + get_last_zero(h))\n",
    "        ]\n",
    "    ) / np.abs(eqs[max_idx + get_last_zero(h)].subs(coef_0)+1)\n",
    "    return DP, DP_p"
   ]
  },
  {
   "cell_type": "code",
   "execution_count": 31,
   "metadata": {},
   "outputs": [
    {
     "name": "stdout",
     "output_type": "stream",
     "text": [
      "9\n",
      "DP: 0.5\n",
      "DP': 0.160156250000000\n"
     ]
    }
   ],
   "source": [
    "DP,DP_p=peak_dist(eqs, coef_0, h)\n",
    "print(f\"DP: {DP}\")\n",
    "print(f\"DP': {DP_p}\")"
   ]
  },
  {
   "cell_type": "code",
   "execution_count": 32,
   "metadata": {},
   "outputs": [
    {
     "name": "stdout",
     "output_type": "stream",
     "text": [
      "d_min: 0.5\n",
      "d_min': 0.785656557881773\n",
      "d_min-d_min': -0.285656557881773\n"
     ]
    }
   ],
   "source": [
    "max_idx = np.argmax(h)\n",
    "d_min = h[max_idx] - DP\n",
    "d_min_p = np.abs(eqs[max_idx + get_last_zero(h)].subs(coef_0) + 1) - DP_p\n",
    "print(f\"d_min: {d_min}\")\n",
    "print(f\"d_min': {d_min_p}\")\n",
    "print(f\"d_min-d_min': {d_min-d_min_p}\")"
   ]
  },
  {
   "cell_type": "code",
   "execution_count": 17,
   "metadata": {},
   "outputs": [
    {
     "name": "stdout",
     "output_type": "stream",
     "text": [
      "ΔSINR lineal: 1.46133395278277\n",
      "ΔSINR en dB: 3.29498949702280\n"
     ]
    }
   ],
   "source": [
    "delta_SINR = (d_min_p / d_min) / sp.sqrt(\n",
    "    sum([np.abs(coef_0[c]) ** 2 for n, c in enumerate(coef)])\n",
    ")\n",
    "print(\"\\u0394SINR lineal:\", delta_SINR.evalf())\n",
    "print(\"\\u0394SINR en dB:\", sp.sympify(20 * sp.log(delta_SINR, 10)).evalf())"
   ]
  },
  {
   "cell_type": "code",
   "execution_count": 33,
   "metadata": {},
   "outputs": [
    {
     "data": {
      "text/html": [
       "<pre style=\"white-space:pre;overflow-x:auto;line-height:normal;font-family:Menlo,'DejaVu Sans Mono',consolas,'Courier New',monospace\"><span style=\"color: #008000; text-decoration-color: #008000; font-weight: bold\">╭────────────────────────────────────────────────── Without eq ───────────────────────────────────────────────────╮</span>\n",
       "<span style=\"color: #008000; text-decoration-color: #008000; font-weight: bold\">│ x: 0.4999999999999999                                                                                           │</span>\n",
       "<span style=\"color: #008000; text-decoration-color: #008000; font-weight: bold\">│ P_b: 0.2397500610934768                                                                                         │</span>\n",
       "<span style=\"color: #008000; text-decoration-color: #008000; font-weight: bold\">╰─────────────────────────────────────────────────────────────────────────────────────────────────────────────────╯</span>\n",
       "</pre>\n"
      ],
      "text/plain": [
       "\u001b[1;32m╭─\u001b[0m\u001b[1;32m─────────────────────────────────────────────────\u001b[0m\u001b[1;32m Without eq \u001b[0m\u001b[1;32m──────────────────────────────────────────────────\u001b[0m\u001b[1;32m─╮\u001b[0m\n",
       "\u001b[1;32m│\u001b[0m\u001b[1;32m \u001b[0m\u001b[1;32mx: 0.4999999999999999\u001b[0m\u001b[1;32m                                                                                          \u001b[0m\u001b[1;32m \u001b[0m\u001b[1;32m│\u001b[0m\n",
       "\u001b[1;32m│\u001b[0m\u001b[1;32m \u001b[0m\u001b[1;32mP_b: 0.2397500610934768\u001b[0m\u001b[1;32m                                                                                        \u001b[0m\u001b[1;32m \u001b[0m\u001b[1;32m│\u001b[0m\n",
       "\u001b[1;32m╰─────────────────────────────────────────────────────────────────────────────────────────────────────────────────╯\u001b[0m\n"
      ]
     },
     "metadata": {},
     "output_type": "display_data"
    },
    {
     "data": {
      "text/html": [
       "<pre style=\"white-space:pre;overflow-x:auto;line-height:normal;font-family:Menlo,'DejaVu Sans Mono',consolas,'Courier New',monospace\"><span style=\"color: #808000; text-decoration-color: #808000; font-weight: bold\">╭──────────────────────────────────────────────────── With eq ────────────────────────────────────────────────────╮</span>\n",
       "<span style=\"color: #808000; text-decoration-color: #808000; font-weight: bold\">│ x': 0.7306669763913838                                                                                          │</span>\n",
       "<span style=\"color: #808000; text-decoration-color: #808000; font-weight: bold\">│ P_b': 0.15072728475193803                                                                                       │</span>\n",
       "<span style=\"color: #808000; text-decoration-color: #808000; font-weight: bold\">╰─────────────────────────────────────────────────────────────────────────────────────────────────────────────────╯</span>\n",
       "</pre>\n"
      ],
      "text/plain": [
       "\u001b[1;33m╭─\u001b[0m\u001b[1;33m───────────────────────────────────────────────────\u001b[0m\u001b[1;33m With eq \u001b[0m\u001b[1;33m───────────────────────────────────────────────────\u001b[0m\u001b[1;33m─╮\u001b[0m\n",
       "\u001b[1;33m│\u001b[0m\u001b[1;33m \u001b[0m\u001b[1;33mx': 0.7306669763913838\u001b[0m\u001b[1;33m                                                                                         \u001b[0m\u001b[1;33m \u001b[0m\u001b[1;33m│\u001b[0m\n",
       "\u001b[1;33m│\u001b[0m\u001b[1;33m \u001b[0m\u001b[1;33mP_b': 0.15072728475193803\u001b[0m\u001b[1;33m                                                                                      \u001b[0m\u001b[1;33m \u001b[0m\u001b[1;33m│\u001b[0m\n",
       "\u001b[1;33m╰─────────────────────────────────────────────────────────────────────────────────────────────────────────────────╯\u001b[0m\n"
      ]
     },
     "metadata": {},
     "output_type": "display_data"
    }
   ],
   "source": [
    "sigma_n_2 = 0.5  # W\n",
    "x = d_min / (np.sqrt(2) * np.sqrt(sigma_n_2))\n",
    "P_b = 0.5 * erfc(x)\n",
    "if np.abs(np.round(x, 1) - x) > 0.015:\n",
    "    print(\"revisar con la tabla\")\n",
    "console.print(\n",
    "    Panel(\n",
    "        f\"x: {x}\\nP_b: {P_b}\",\n",
    "        title=\"Without eq\",\n",
    "        style=\"bold yellow\" if np.abs(np.round(x, 1) - x) > 0.015 else \"bold green\",\n",
    "    )\n",
    ")\n",
    "\n",
    "sigma_eq = sp.sqrt(\n",
    "    sigma_n_2 * sum([np.abs(coef_0[c]) ** 2 for n, c in enumerate(coef)])\n",
    ")\n",
    "x_p = float(d_min_p / (sigma_eq * np.sqrt(2)))\n",
    "P_b_p = 0.5 * erfc(x_p)\n",
    "\n",
    "console.print(\n",
    "    Panel(\n",
    "        f\"x': {x_p}\\nP_b': {P_b_p}\",\n",
    "        title=\"With eq\",\n",
    "        style=\"bold yellow\" if np.abs(np.round(x_p, 1) - x_p) > 0.015 else \"bold green\",\n",
    "    )\n",
    ")\n"
   ]
  },
  {
   "cell_type": "code",
   "execution_count": 34,
   "metadata": {},
   "outputs": [],
   "source": [
    "z=[0.5,0.9,1.1,-1.2,0.8,0.9,-1.1,0.7,0.9]\n",
    "z_0=4\n",
    "diff=0.1"
   ]
  },
  {
   "cell_type": "code",
   "execution_count": 35,
   "metadata": {},
   "outputs": [],
   "source": [
    "def get_sorted_coef(coef,n):\n",
    "  if type(coef)==list:\n",
    "    return coef\n",
    "  return [coef[sp.Symbol(\"C_{\"+str(i)+\",\"+str(n)+\"}\")] for i in range(1-LTE[0],LTE[1]+1)]"
   ]
  },
  {
   "cell_type": "code",
   "execution_count": 36,
   "metadata": {},
   "outputs": [],
   "source": [
    "def compute_y(z_arr,z_0,coef,n,LTE):\n",
    "  scoef=get_sorted_coef(coef,n)\n",
    "  return sum([z*c for z,c in zip(z_arr[z_0-LTE[1]:z_0+LTE[0]],scoef[::-1])])"
   ]
  },
  {
   "cell_type": "code",
   "execution_count": 37,
   "metadata": {},
   "outputs": [],
   "source": [
    "def compute_delta(coef,n,delta,z_arr,z_0,diff,LTE):\n",
    "  scoef=get_sorted_coef(coef,n)\n",
    "  y=compute_y(z_arr,z_0,coef,n,LTE)\n",
    "  print(\"y[\"+str(n)+\"] =\",y,\"e[\"+str(n)+\"]\", y-np.sign(y),)\n",
    "  print(\"C[\"+str(n)+\"] =\", scoef[LTE[0]-1])\n",
    "  eq=(delta)*np.abs(y-np.sign(y))*z_arr[z_0]-diff*scoef[LTE[0]-1]\n",
    "  return np.abs(sp.solve(eq)[0])"
   ]
  },
  {
   "cell_type": "code",
   "execution_count": 38,
   "metadata": {},
   "outputs": [],
   "source": [
    "def compute_next_coef(coef,n,delta,z_arr,z_0,LTE):\n",
    "  scoef=get_sorted_coef(coef,n)\n",
    "  y=compute_y(z_arr,z_0,coef,n,LTE)\n",
    "  print(\"y[\"+str(n)+\"] =\",y,\"e[\"+str(n)+\"]\", y-np.sign(y),)\n",
    "  nextcoef=[c-delta*(y-np.sign(y))*z\n",
    "            for c,z in zip(scoef[::-1],\n",
    "                              z_arr[z_0-LTE[1]:z_0+LTE[0]])]\n",
    "  return nextcoef"
   ]
  },
  {
   "cell_type": "code",
   "execution_count": 39,
   "metadata": {},
   "outputs": [
    {
     "name": "stdout",
     "output_type": "stream",
     "text": [
      "y[0] = 1.10057471264368 e[0] 0.100574712643678\n"
     ]
    },
    {
     "data": {
      "image/png": "[encoded data removed]",
      "text/latex": [
       "$\\displaystyle 0.110632183908046 \\Delta + 0.0410509031198686$"
      ],
      "text/plain": [
       "0.110632183908046⋅Δ + 0.0410509031198686"
      ]
     },
     "metadata": {},
     "output_type": "display_data"
    },
    {
     "data": {
      "image/png": "[encoded data removed]",
      "text/latex": [
       "$\\displaystyle 0.205254515599343 - 0.0905172413793104 \\Delta$"
      ],
      "text/plain": [
       "0.205254515599343 - 0.0905172413793104⋅Δ"
      ]
     },
     "metadata": {},
     "output_type": "display_data"
    },
    {
     "data": {
      "image/png": "[encoded data removed]",
      "text/latex": [
       "$\\displaystyle 1.02627257799672 - 0.0804597701149426 \\Delta$"
      ],
      "text/plain": [
       "1.02627257799672 - 0.0804597701149426⋅Δ"
      ]
     },
     "metadata": {},
     "output_type": "display_data"
    },
    {
     "data": {
      "image/png": "[encoded data removed]",
      "text/latex": [
       "$\\displaystyle 0.120689655172414 \\Delta + 0.090311986863711$"
      ],
      "text/plain": [
       "0.120689655172414⋅Δ + 0.090311986863711"
      ]
     },
     "metadata": {},
     "output_type": "display_data"
    },
    {
     "data": {
      "image/png": "[encoded data removed]",
      "text/latex": [
       "$\\displaystyle 0.225779967159278 - 0.110632183908046 \\Delta$"
      ],
      "text/plain": [
       "0.225779967159278 - 0.110632183908046⋅Δ"
      ]
     },
     "metadata": {},
     "output_type": "display_data"
    }
   ],
   "source": [
    "delta=sp.Symbol(\"Delta\")\n",
    "nextcoef=compute_next_coef(coef_0,0,delta,z,z_0,LTE)[::-1]\n",
    "for eq in nextcoef:\n",
    "  display(eq)"
   ]
  },
  {
   "cell_type": "code",
   "execution_count": 40,
   "metadata": {},
   "outputs": [
    {
     "name": "stdout",
     "output_type": "stream",
     "text": [
      "y[0] = 1.10057471264368 e[0] 0.100574712643678\n",
      "C[0] = 1.02627257799672\n",
      "Δ = 1.27551020408164\n"
     ]
    }
   ],
   "source": [
    "delta_res=compute_delta(coef_0,0,delta,z,z_0,diff,LTE)\n",
    "print(\"Δ =\", delta_res)"
   ]
  },
  {
   "cell_type": "code",
   "execution_count": 41,
   "metadata": {},
   "outputs": [
    {
     "name": "stdout",
     "output_type": "stream",
     "text": [
      "y[0] = 1.10057471264368 e[0] 0.100574712643678\n",
      "C -2\n"
     ]
    },
    {
     "data": {
      "image/png": "[encoded data removed]",
      "text/latex": [
       "$\\displaystyle 0.182163382594418$"
      ],
      "text/plain": [
       "0.182163382594418"
      ]
     },
     "metadata": {},
     "output_type": "display_data"
    },
    {
     "name": "stdout",
     "output_type": "stream",
     "text": [
      "C -1\n"
     ]
    },
    {
     "data": {
      "image/png": "[encoded data removed]",
      "text/latex": [
       "$\\displaystyle 0.0897988505747121$"
      ],
      "text/plain": [
       "0.0897988505747121"
      ]
     },
     "metadata": {},
     "output_type": "display_data"
    },
    {
     "name": "stdout",
     "output_type": "stream",
     "text": [
      "C 0\n"
     ]
    },
    {
     "data": {
      "image/png": "[encoded data removed]",
      "text/latex": [
       "$\\displaystyle 0.923645320197044$"
      ],
      "text/plain": [
       "0.923645320197044"
      ]
     },
     "metadata": {},
     "output_type": "display_data"
    },
    {
     "name": "stdout",
     "output_type": "stream",
     "text": [
      "C 1\n"
     ]
    },
    {
     "data": {
      "image/png": "[encoded data removed]",
      "text/latex": [
       "$\\displaystyle 0.244252873563219$"
      ],
      "text/plain": [
       "0.244252873563219"
      ]
     },
     "metadata": {},
     "output_type": "display_data"
    },
    {
     "name": "stdout",
     "output_type": "stream",
     "text": [
      "C 2\n"
     ]
    },
    {
     "data": {
      "image/png": "[encoded data removed]",
      "text/latex": [
       "$\\displaystyle 0.0846674876847284$"
      ],
      "text/plain": [
       "0.0846674876847284"
      ]
     },
     "metadata": {},
     "output_type": "display_data"
    }
   ],
   "source": [
    "nextcoef1=compute_next_coef(coef_0,0,delta_res,z,z_0,LTE)[::-1]\n",
    "for i,eq in enumerate(nextcoef1):\n",
    "  print(\"C\",i-LTE[0]+1)\n",
    "  display(eq)"
   ]
  },
  {
   "cell_type": "code",
   "execution_count": 27,
   "metadata": {},
   "outputs": [
    {
     "name": "stdout",
     "output_type": "stream",
     "text": [
      "y[1] = 0.953817733990150 e[1] -0.0461822660098503\n",
      "C -2\n"
     ]
    },
    {
     "data": {
      "image/png": "[encoded data removed]",
      "text/latex": [
       "$\\displaystyle 0.223397548674641$"
      ],
      "text/plain": [
       "0.223397548674641"
      ]
     },
     "metadata": {},
     "output_type": "display_data"
    },
    {
     "name": "stdout",
     "output_type": "stream",
     "text": [
      "C -1\n"
     ]
    },
    {
     "data": {
      "image/png": "[encoded data removed]",
      "text/latex": [
       "$\\displaystyle 0.0250023038772178$"
      ],
      "text/plain": [
       "0.0250023038772178"
      ]
     },
     "metadata": {},
     "output_type": "display_data"
    },
    {
     "name": "stdout",
     "output_type": "stream",
     "text": [
      "C 0\n"
     ]
    },
    {
     "data": {
      "image/png": "[encoded data removed]",
      "text/latex": [
       "$\\displaystyle 0.976660676585903$"
      ],
      "text/plain": [
       "0.976660676585903"
      ]
     },
     "metadata": {},
     "output_type": "display_data"
    },
    {
     "name": "stdout",
     "output_type": "stream",
     "text": [
      "C 1\n"
     ]
    },
    {
     "data": {
      "image/png": "[encoded data removed]",
      "text/latex": [
       "$\\displaystyle 0.29137763479776$"
      ],
      "text/plain": [
       "0.291377634797760"
      ]
     },
     "metadata": {},
     "output_type": "display_data"
    },
    {
     "name": "stdout",
     "output_type": "stream",
     "text": [
      "C 2\n"
     ]
    },
    {
     "data": {
      "image/png": "[encoded data removed]",
      "text/latex": [
       "$\\displaystyle 0.0139803458329164$"
      ],
      "text/plain": [
       "0.0139803458329164"
      ]
     },
     "metadata": {},
     "output_type": "display_data"
    }
   ],
   "source": [
    "nextcoef2=compute_next_coef(nextcoef1,1,delta_res,z,z_0+1,LTE)[::-1]\n",
    "for i,eq in enumerate(nextcoef2):\n",
    "  print(\"C\",i-LTE[0]+1)\n",
    "  display(eq)"
   ]
  },
  {
   "cell_type": "code",
   "execution_count": 42,
   "metadata": {},
   "outputs": [],
   "source": [
    "def compute_DFE(h_arr):\n",
    "  idx=np.argmax(h_arr)-1\n",
    "  print(idx)\n",
    "  return[1/h_arr[idx]]+[-h/h_arr[idx] for h in h_arr[idx+1:]][:len(nextcoef)-1]"
   ]
  },
  {
   "cell_type": "code",
   "execution_count": 43,
   "metadata": {},
   "outputs": [
    {
     "name": "stdout",
     "output_type": "stream",
     "text": [
      "2\n"
     ]
    },
    {
     "data": {
      "image/png": "[encoded data removed]",
      "text/latex": [
       "$\\displaystyle \\left[ -5.0, \\  5.0, \\  0.0, \\  -1.0, \\  -0.5\\right]$"
      ],
      "text/plain": [
       "[-5.0, 5.0, -0.0, -1.0, -0.5]"
      ]
     },
     "execution_count": 43,
     "metadata": {},
     "output_type": "execute_result"
    }
   ],
   "source": [
    "compute_DFE(h)"
   ]
  },
  {
   "cell_type": "code",
   "execution_count": null,
   "metadata": {},
   "outputs": [],
   "source": []
  }
 ],
 "metadata": {
  "kernelspec": {
   "display_name": "Python 3",
   "language": "python",
   "name": "python3"
  },
  "language_info": {
   "codemirror_mode": {
    "name": "ipython",
    "version": 3
   },
   "file_extension": ".py",
   "mimetype": "text/x-python",
   "name": "python",
   "nbconvert_exporter": "python",
   "pygments_lexer": "ipython3",
   "version": "3.12.2"
  }
 },
 "nbformat": 4,
 "nbformat_minor": 2
}
