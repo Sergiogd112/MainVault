{
 "cells": [
  {
   "cell_type": "markdown",
   "metadata": {},
   "source": [
    "# Imports"
   ]
  },
  {
   "cell_type": "code",
   "execution_count": 2,
   "metadata": {},
   "outputs": [],
   "source": [
    "import numpy as np\n",
    "import sympy as sp\n",
    "from matplotlib import pyplot as plt\n",
    "from IPython.display import display\n",
    "from scipy.special import erfc\n",
    "from rich.console import Console\n",
    "from rich.panel import Panel\n",
    "console=Console()\n",
    "sp.init_printing()"
   ]
  },
  {
   "cell_type": "markdown",
   "metadata": {},
   "source": [
    "# Impulse response"
   ]
  },
  {
   "cell_type": "code",
   "execution_count": 79,
   "metadata": {},
   "outputs": [
    {
     "data": {
      "image/png": "[encoded data removed]",
      "text/plain": [
       "<Figure size 640x480 with 1 Axes>"
      ]
     },
     "metadata": {},
     "output_type": "display_data"
    }
   ],
   "source": [
    "h = [0, -0.1, -0.3, 0, 1, -0.2, 0, 0]\n",
    "t = np.arange(0, 16, 2) * 1e-6\n",
    "plt.plot(t, h)\n",
    "\n",
    "plt.grid()\n",
    "\n",
    "plt.show()"
   ]
  },
  {
   "cell_type": "markdown",
   "metadata": {},
   "source": [
    "# RB"
   ]
  },
  {
   "cell_type": "code",
   "execution_count": 80,
   "metadata": {},
   "outputs": [],
   "source": [
    "def RB_without(h, t):\n",
    "    last_zero = len(h) - 1\n",
    "    max_idx = np.argmax(h)\n",
    "    j = 0\n",
    "    pj = -1\n",
    "    nodes = []\n",
    "    mnidx = 0\n",
    "    for i in range(len(h)):\n",
    "        if h[i] == 0:\n",
    "            if j != pj:\n",
    "                nodes.append(i)\n",
    "                pj = j\n",
    "            nodes[-1] = i\n",
    "        elif i == max_idx:\n",
    "            nodes.append(i)\n",
    "            mnidx = len(nodes) - 1\n",
    "            j += 1\n",
    "        else:\n",
    "            j += 1\n",
    "    if max(np.diff(nodes)) == min(np.diff(nodes)):\n",
    "        return 1 / np.abs(t[nodes[1]] - t[nodes[0]]), (\n",
    "            max_idx - max(np.diff(nodes)),\n",
    "            max(np.diff(nodes)) + max_idx,\n",
    "        )\n",
    "    return 1 / np.abs(t[np.argmax(np.diff(nodes))] - t[max_idx]), (\n",
    "        max_idx - max(np.diff(nodes)),\n",
    "        max(np.diff(nodes)) + max_idx,\n",
    "    )"
   ]
  },
  {
   "cell_type": "code",
   "execution_count": 81,
   "metadata": {},
   "outputs": [
    {
     "name": "stdout",
     "output_type": "stream",
     "text": [
      "RB without ISI: 125000.0 bps\n",
      "RB without ISI: 125.0 Kbps\n"
     ]
    },
    {
     "data": {
      "text/plain": [
       "(1, 7)"
      ]
     },
     "execution_count": 81,
     "metadata": {},
     "output_type": "execute_result"
    }
   ],
   "source": [
    "RB,(pzero,nzero) = RB_without(h,t)\n",
    "print(f\"Rb without ISI: {RB} bps\")\n",
    "\n",
    "print(f\"Rb without ISI: {RB/1000} Kbps\")\n",
    "pzero,nzero"
   ]
  },
  {
   "cell_type": "markdown",
   "metadata": {},
   "source": [
    "# LTE equalization"
   ]
  },
  {
   "cell_type": "markdown",
   "metadata": {},
   "source": [
    "## Helper functions"
   ]
  },
  {
   "cell_type": "code",
   "execution_count": 82,
   "metadata": {},
   "outputs": [],
   "source": [
    "def gen_y(h):\n",
    "    max_idx = np.argmax(h)\n",
    "    y = np.zeros(len(h))\n",
    "    y[max_idx] = 1\n",
    "    return y"
   ]
  },
  {
   "cell_type": "code",
   "execution_count": 83,
   "metadata": {},
   "outputs": [],
   "source": [
    "def gen_coef(LTE, n):\n",
    "    return sp.symbols(\n",
    "        [\"C_{\" + str(i) + \"\\\\,\" + str(n) + \"}\" for i in range(1 - LTE[0], LTE[1] + 1)]\n",
    "    )"
   ]
  },
  {
   "cell_type": "code",
   "execution_count": 84,
   "metadata": {},
   "outputs": [],
   "source": [
    "def get_last_zero(harr):\n",
    "    return nzero"
   ]
  },
  {
   "cell_type": "code",
   "execution_count": 85,
   "metadata": {},
   "outputs": [],
   "source": [
    "def gen_eq(harr, coef, yarr, nzero):\n",
    "    res = np.convolve(coef, harr)\n",
    "    res[nzero - 1] -= 1\n",
    "    return res"
   ]
  },
  {
   "cell_type": "markdown",
   "metadata": {},
   "source": [
    "## Design parameters"
   ]
  },
  {
   "cell_type": "code",
   "execution_count": 86,
   "metadata": {},
   "outputs": [],
   "source": [
    "Rb = 5e5\n",
    "LTE = [3, 2]"
   ]
  },
  {
   "cell_type": "markdown",
   "metadata": {},
   "source": [
    "## Generate system of equations"
   ]
  },
  {
   "cell_type": "code",
   "execution_count": 87,
   "metadata": {},
   "outputs": [],
   "source": [
    "coef = gen_coef(LTE, 0)\n",
    "yarr = gen_y(h)\n",
    "eqs = gen_eq(h,coef,yarr,nzero)"
   ]
  },
  {
   "cell_type": "code",
   "execution_count": 88,
   "metadata": {},
   "outputs": [
    {
     "data": {
      "image/png": "[encoded data removed]",
      "text/latex": [
       "$\\displaystyle 0$"
      ],
      "text/plain": [
       "0"
      ]
     },
     "metadata": {},
     "output_type": "display_data"
    },
    {
     "data": {
      "image/png": "[encoded data removed]",
      "text/latex": [
       "$\\displaystyle - 0.1 C_{-2,0}$"
      ],
      "text/plain": [
       "-0.1⋅C_{-2,0}"
      ]
     },
     "metadata": {},
     "output_type": "display_data"
    },
    {
     "data": {
      "image/png": "[encoded data removed]",
      "text/latex": [
       "$\\displaystyle - 0.1 C_{-1,0} - 0.3 C_{-2,0}$"
      ],
      "text/plain": [
       "-0.1⋅C_{-1,0} - 0.3⋅C_{-2,0}"
      ]
     },
     "metadata": {},
     "output_type": "display_data"
    },
    {
     "data": {
      "image/png": "[encoded data removed]",
      "text/latex": [
       "$\\displaystyle - 0.3 C_{-1,0} - 0.1 C_{0,0}$"
      ],
      "text/plain": [
       "-0.3⋅C_{-1,0} - 0.1⋅C_{0,0}"
      ]
     },
     "metadata": {},
     "output_type": "display_data"
    },
    {
     "data": {
      "image/png": "[encoded data removed]",
      "text/latex": [
       "$\\displaystyle 1.0 C_{-2,0} - 0.3 C_{0,0} - 0.1 C_{1,0}$"
      ],
      "text/plain": [
       "1.0⋅C_{-2,0} - 0.3⋅C_{0,0} - 0.1⋅C_{1,0}"
      ]
     },
     "metadata": {},
     "output_type": "display_data"
    },
    {
     "data": {
      "image/png": "[encoded data removed]",
      "text/latex": [
       "$\\displaystyle 1.0 C_{-1,0} - 0.2 C_{-2,0} - 0.3 C_{1,0} - 0.1 C_{2,0}$"
      ],
      "text/plain": [
       "1.0⋅C_{-1,0} - 0.2⋅C_{-2,0} - 0.3⋅C_{1,0} - 0.1⋅C_{2,0}"
      ]
     },
     "metadata": {},
     "output_type": "display_data"
    },
    {
     "data": {
      "image/png": "[encoded data removed]",
      "text/latex": [
       "$\\displaystyle - 0.2 C_{-1,0} + 1.0 C_{0,0} - 0.3 C_{2,0} - 1$"
      ],
      "text/plain": [
       "-0.2⋅C_{-1,0} + 1.0⋅C_{0,0} - 0.3⋅C_{2,0} - 1"
      ]
     },
     "metadata": {},
     "output_type": "display_data"
    },
    {
     "data": {
      "image/png": "[encoded data removed]",
      "text/latex": [
       "$\\displaystyle - 0.2 C_{0,0} + 1.0 C_{1,0}$"
      ],
      "text/plain": [
       "-0.2⋅C_{0,0} + 1.0⋅C_{1,0}"
      ]
     },
     "metadata": {},
     "output_type": "display_data"
    },
    {
     "data": {
      "image/png": "[encoded data removed]",
      "text/latex": [
       "$\\displaystyle - 0.2 C_{1,0} + 1.0 C_{2,0}$"
      ],
      "text/plain": [
       "-0.2⋅C_{1,0} + 1.0⋅C_{2,0}"
      ]
     },
     "metadata": {},
     "output_type": "display_data"
    },
    {
     "data": {
      "image/png": "[encoded data removed]",
      "text/latex": [
       "$\\displaystyle - 0.2 C_{2,0}$"
      ],
      "text/plain": [
       "-0.2⋅C_{2,0}"
      ]
     },
     "metadata": {},
     "output_type": "display_data"
    },
    {
     "data": {
      "image/png": "[encoded data removed]",
      "text/latex": [
       "$\\displaystyle 0$"
      ],
      "text/plain": [
       "0"
      ]
     },
     "metadata": {},
     "output_type": "display_data"
    },
    {
     "data": {
      "image/png": "[encoded data removed]",
      "text/latex": [
       "$\\displaystyle 0$"
      ],
      "text/plain": [
       "0"
      ]
     },
     "metadata": {},
     "output_type": "display_data"
    }
   ],
   "source": [
    "for eq in eqs:\n",
    "    display(eq)"
   ]
  },
  {
   "cell_type": "markdown",
   "metadata": {},
   "source": [
    "# Solve system of equations using zero forcing"
   ]
  },
  {
   "cell_type": "code",
   "execution_count": 89,
   "metadata": {},
   "outputs": [],
   "source": [
    "def zero_forcing(eqs, coef, harr):\n",
    "    max_idx = np.argmax(harr)\n",
    "    cvals = [\n",
    "        sp.solve(eqs[i : i + len(coef)])\n",
    "        for i in range(max_idx - 1, len(eqs) - len(coef))\n",
    "    ]\n",
    "    cvals = [cval for cval in cvals if len(cval) == len(coef)]\n",
    "    errors = [np.abs(sum(eq.subs(cval) for eq in eqs if eq != 0)) for cval in cvals]\n",
    "    print(\"error for each set of coeficients:\", errors)\n",
    "    print(\"result for each set of equations:\")\n",
    "    for cval in cvals:\n",
    "        display(cval)\n",
    "    print(\"selected set of equations:\")\n",
    "    for eq in eqs[\n",
    "        max_idx - 1 + np.argmin(errors) : max_idx - 1 + np.argmin(errors) + len(coef)\n",
    "    ]:\n",
    "        display(eq)\n",
    "    return cvals[np.argmin(errors)]"
   ]
  },
  {
   "cell_type": "code",
   "execution_count": 90,
   "metadata": {},
   "outputs": [
    {
     "name": "stdout",
     "output_type": "stream",
     "text": [
      "error for each set of coeficients: [1.55549480590487, 0.298420615128845, 13.0000000000000]\n",
      "result for each set of equations:\n"
     ]
    },
    {
     "data": {
      "image/png": "[encoded data removed]",
      "text/latex": [
       "$\\displaystyle \\left\\{ C_{-1,0} : -0.136686714051394, \\  C_{-2,0} : 0.131219245489338, \\  C_{0,0} : 0.410060142154183, \\  C_{1,0} : 0.0820120284308365, \\  C_{2,0} : -1.87534171678513\\right\\}$"
      ],
      "text/plain": [
       "{C_{-1,0}: -0.136686714051394, C_{-2,0}: 0.131219245489338, C_{0,0}: 0.4100601\n",
       "42154183, C_{1,0}: 0.0820120284308365, C_{2,0}: -1.87534171678513}"
      ]
     },
     "metadata": {},
     "output_type": "display_data"
    },
    {
     "data": {
      "image/png": "[encoded data removed]",
      "text/latex": [
       "$\\displaystyle \\left\\{ C_{-1,0} : 0.133000831255195, \\  C_{-2,0} : 0.332502078137988, \\  C_{0,0} : 1.03906899418121, \\  C_{1,0} : 0.207813798836243, \\  C_{2,0} : 0.0415627597672485\\right\\}$"
      ],
      "text/plain": [
       "{C_{-1,0}: 0.133000831255195, C_{-2,0}: 0.332502078137988, C_{0,0}: 1.03906899\n",
       "418121, C_{1,0}: 0.207813798836243, C_{2,0}: 0.0415627597672485}"
      ]
     },
     "metadata": {},
     "output_type": "display_data"
    },
    {
     "data": {
      "image/png": "[encoded data removed]",
      "text/latex": [
       "$\\displaystyle \\left\\{ C_{-1,0} : -5.0, \\  C_{-2,0} : -25.0, \\  C_{0,0} : 0.0, \\  C_{1,0} : 0.0, \\  C_{2,0} : 0.0\\right\\}$"
      ],
      "text/plain": [
       "{C_{-1,0}: -5.0, C_{-2,0}: -25.0, C_{0,0}: 0.0, C_{1,0}: 0.0, C_{2,0}: 0.0}"
      ]
     },
     "metadata": {},
     "output_type": "display_data"
    },
    {
     "name": "stdout",
     "output_type": "stream",
     "text": [
      "selected set of equations:\n"
     ]
    },
    {
     "data": {
      "image/png": "[encoded data removed]",
      "text/latex": [
       "$\\displaystyle 1.0 C_{-2,0} - 0.3 C_{0,0} - 0.1 C_{1,0}$"
      ],
      "text/plain": [
       "1.0⋅C_{-2,0} - 0.3⋅C_{0,0} - 0.1⋅C_{1,0}"
      ]
     },
     "metadata": {},
     "output_type": "display_data"
    },
    {
     "data": {
      "image/png": "[encoded data removed]",
      "text/latex": [
       "$\\displaystyle 1.0 C_{-1,0} - 0.2 C_{-2,0} - 0.3 C_{1,0} - 0.1 C_{2,0}$"
      ],
      "text/plain": [
       "1.0⋅C_{-1,0} - 0.2⋅C_{-2,0} - 0.3⋅C_{1,0} - 0.1⋅C_{2,0}"
      ]
     },
     "metadata": {},
     "output_type": "display_data"
    },
    {
     "data": {
      "image/png": "[encoded data removed]",
      "text/latex": [
       "$\\displaystyle - 0.2 C_{-1,0} + 1.0 C_{0,0} - 0.3 C_{2,0} - 1$"
      ],
      "text/plain": [
       "-0.2⋅C_{-1,0} + 1.0⋅C_{0,0} - 0.3⋅C_{2,0} - 1"
      ]
     },
     "metadata": {},
     "output_type": "display_data"
    },
    {
     "data": {
      "image/png": "[encoded data removed]",
      "text/latex": [
       "$\\displaystyle - 0.2 C_{0,0} + 1.0 C_{1,0}$"
      ],
      "text/plain": [
       "-0.2⋅C_{0,0} + 1.0⋅C_{1,0}"
      ]
     },
     "metadata": {},
     "output_type": "display_data"
    },
    {
     "data": {
      "image/png": "[encoded data removed]",
      "text/latex": [
       "$\\displaystyle - 0.2 C_{1,0} + 1.0 C_{2,0}$"
      ],
      "text/plain": [
       "-0.2⋅C_{1,0} + 1.0⋅C_{2,0}"
      ]
     },
     "metadata": {},
     "output_type": "display_data"
    },
    {
     "data": {
      "image/png": "[encoded data removed]",
      "text/latex": [
       "$\\displaystyle \\left\\{ C_{-1,0} : 0.133000831255195, \\  C_{-2,0} : 0.332502078137988, \\  C_{0,0} : 1.03906899418121, \\  C_{1,0} : 0.207813798836243, \\  C_{2,0} : 0.0415627597672485\\right\\}$"
      ],
      "text/plain": [
       "{C_{-1,0}: 0.133000831255195, C_{-2,0}: 0.332502078137988, C_{0,0}: 1.03906899\n",
       "418121, C_{1,0}: 0.207813798836243, C_{2,0}: 0.0415627597672485}"
      ]
     },
     "execution_count": 90,
     "metadata": {},
     "output_type": "execute_result"
    }
   ],
   "source": [
    "coef_0 = zero_forcing(eqs, coef, h)\n",
    "coef_0"
   ]
  },
  {
   "cell_type": "markdown",
   "metadata": {},
   "source": [
    "## Compute the peak distortion"
   ]
  },
  {
   "cell_type": "code",
   "execution_count": 109,
   "metadata": {},
   "outputs": [],
   "source": [
    "def peak_dist(eqs, coef_0, h):\n",
    "    max_idx = np.argmax(h)\n",
    "    DP = np.sum([np.abs(h) for n, h in enumerate(h) if n != max_idx]) / h[max_idx]\n",
    "    print(max_idx + get_last_zero(h))\n",
    "    DP_p = np.sum(\n",
    "        [\n",
    "            np.abs(eq.subs(coef_0))\n",
    "            for n, eq in enumerate(eqs)\n",
    "            if n != (max_idx + get_last_zero(h))\n",
    "        ]\n",
    "    ) / np.abs(eqs[max_idx + get_last_zero(h)].subs(coef_0)+1)\n",
    "    return DP, DP_p"
   ]
  },
  {
   "cell_type": "code",
   "execution_count": 110,
   "metadata": {},
   "outputs": [
    {
     "name": "stdout",
     "output_type": "stream",
     "text": [
      "11\n",
      "DP: 0.6000000000000001\n",
      "DP': 0.298420615128845\n"
     ]
    }
   ],
   "source": [
    "DP,DP_p=peak_dist(eqs, coef_0, h)\n",
    "print(f\"DP: {DP}\")\n",
    "print(f\"DP': {DP_p}\")"
   ]
  },
  {
   "cell_type": "markdown",
   "metadata": {},
   "source": [
    "## SINR Improvement"
   ]
  },
  {
   "cell_type": "code",
   "execution_count": 93,
   "metadata": {},
   "outputs": [
    {
     "name": "stdout",
     "output_type": "stream",
     "text": [
      "d_min: 0.3999999999999999\n",
      "d_min': 0.701579384871155\n",
      "d_min-d_min': -0.301579384871156\n"
     ]
    }
   ],
   "source": [
    "max_idx = np.argmax(h)\n",
    "d_min = h[max_idx] - DP\n",
    "d_min_p = np.abs(eqs[max_idx + get_last_zero(h)].subs(coef_0) + 1) - DP_p\n",
    "print(f\"d_min: {d_min}\")\n",
    "print(f\"d_min': {d_min_p}\")\n",
    "print(f\"d_min-d_min': {d_min-d_min_p}\")"
   ]
  },
  {
   "cell_type": "code",
   "execution_count": 94,
   "metadata": {},
   "outputs": [
    {
     "name": "stdout",
     "output_type": "stream",
     "text": [
      "ΔSINR lineal: 1.56700930861765\n",
      "ΔSINR en dB: 3.90143152693748\n"
     ]
    }
   ],
   "source": [
    "delta_SINR = (d_min_p / d_min) / sp.sqrt(\n",
    "    sum([np.abs(coef_0[c]) ** 2 for n, c in enumerate(coef)])\n",
    ")\n",
    "print(\"\\u0394SINR lineal:\", delta_SINR.evalf())\n",
    "print(\"\\u0394SINR en dB:\", sp.sympify(20 * sp.log(delta_SINR, 10)).evalf())"
   ]
  },
  {
   "cell_type": "markdown",
   "metadata": {},
   "source": [
    "# BER"
   ]
  },
  {
   "cell_type": "code",
   "execution_count": 96,
   "metadata": {},
   "outputs": [
    {
     "data": {
      "text/html": [
       "<pre style=\"white-space:pre;overflow-x:auto;line-height:normal;font-family:Menlo,'DejaVu Sans Mono',consolas,'Courier New',monospace\"><span style=\"color: #008000; text-decoration-color: #008000; font-weight: bold\">╭────────────────────────────────────────────────── Without eq ───────────────────────────────────────────────────╮</span>\n",
       "<span style=\"color: #008000; text-decoration-color: #008000; font-weight: bold\">│ x: 0.3999999999999998                                                                                           │</span>\n",
       "<span style=\"color: #008000; text-decoration-color: #008000; font-weight: bold\">│ P_b: 0.28580382247666586                                                                                        │</span>\n",
       "<span style=\"color: #008000; text-decoration-color: #008000; font-weight: bold\">╰─────────────────────────────────────────────────────────────────────────────────────────────────────────────────╯</span>\n",
       "</pre>\n"
      ],
      "text/plain": [
       "\u001b[1;32m╭─\u001b[0m\u001b[1;32m─────────────────────────────────────────────────\u001b[0m\u001b[1;32m Without eq \u001b[0m\u001b[1;32m──────────────────────────────────────────────────\u001b[0m\u001b[1;32m─╮\u001b[0m\n",
       "\u001b[1;32m│\u001b[0m\u001b[1;32m \u001b[0m\u001b[1;32mx: 0.3999999999999998\u001b[0m\u001b[1;32m                                                                                          \u001b[0m\u001b[1;32m \u001b[0m\u001b[1;32m│\u001b[0m\n",
       "\u001b[1;32m│\u001b[0m\u001b[1;32m \u001b[0m\u001b[1;32mP_b: 0.28580382247666586\u001b[0m\u001b[1;32m                                                                                       \u001b[0m\u001b[1;32m \u001b[0m\u001b[1;32m│\u001b[0m\n",
       "\u001b[1;32m╰─────────────────────────────────────────────────────────────────────────────────────────────────────────────────╯\u001b[0m\n"
      ]
     },
     "metadata": {},
     "output_type": "display_data"
    },
    {
     "data": {
      "text/html": [
       "<pre style=\"white-space:pre;overflow-x:auto;line-height:normal;font-family:Menlo,'DejaVu Sans Mono',consolas,'Courier New',monospace\"><span style=\"color: #808000; text-decoration-color: #808000; font-weight: bold\">╭──────────────────────────────────────────────────── With eq ────────────────────────────────────────────────────╮</span>\n",
       "<span style=\"color: #808000; text-decoration-color: #808000; font-weight: bold\">│ x': 0.626803723447059                                                                                           │</span>\n",
       "<span style=\"color: #808000; text-decoration-color: #808000; font-weight: bold\">│ P_b': 0.18769176430576523                                                                                       │</span>\n",
       "<span style=\"color: #808000; text-decoration-color: #808000; font-weight: bold\">╰─────────────────────────────────────────────────────────────────────────────────────────────────────────────────╯</span>\n",
       "</pre>\n"
      ],
      "text/plain": [
       "\u001b[1;33m╭─\u001b[0m\u001b[1;33m───────────────────────────────────────────────────\u001b[0m\u001b[1;33m With eq \u001b[0m\u001b[1;33m───────────────────────────────────────────────────\u001b[0m\u001b[1;33m─╮\u001b[0m\n",
       "\u001b[1;33m│\u001b[0m\u001b[1;33m \u001b[0m\u001b[1;33mx': 0.626803723447059\u001b[0m\u001b[1;33m                                                                                          \u001b[0m\u001b[1;33m \u001b[0m\u001b[1;33m│\u001b[0m\n",
       "\u001b[1;33m│\u001b[0m\u001b[1;33m \u001b[0m\u001b[1;33mP_b': 0.18769176430576523\u001b[0m\u001b[1;33m                                                                                      \u001b[0m\u001b[1;33m \u001b[0m\u001b[1;33m│\u001b[0m\n",
       "\u001b[1;33m╰─────────────────────────────────────────────────────────────────────────────────────────────────────────────────╯\u001b[0m\n"
      ]
     },
     "metadata": {},
     "output_type": "display_data"
    },
    {
     "name": "stdout",
     "output_type": "stream",
     "text": [
      "revisar con la tabla\n"
     ]
    }
   ],
   "source": [
    "sigma_n_2 = 0.5  # W\n",
    "x = d_min / (np.sqrt(2) * np.sqrt(sigma_n_2))\n",
    "P_b = 0.5 * erfc(x)\n",
    "if np.abs(np.round(x, 1) - x) > 0.015:\n",
    "    print(\"revisar con la tabla\")\n",
    "console.print(\n",
    "    Panel(\n",
    "        f\"x: {x}\\nP_b: {P_b}\",\n",
    "        title=\"Without eq\",\n",
    "        style=\"bold yellow\" if np.abs(np.round(x, 1) - x) > 0.015 else \"bold green\",\n",
    "    )\n",
    ")\n",
    "\n",
    "sigma_eq = sp.sqrt(\n",
    "    sigma_n_2 * sum([np.abs(coef_0[c]) ** 2 for n, c in enumerate(coef)])\n",
    ")\n",
    "x_p = float(d_min_p / (sigma_eq * np.sqrt(2)))\n",
    "P_b_p = 0.5 * erfc(x_p)\n",
    "\n",
    "console.print(\n",
    "    Panel(\n",
    "        f\"x': {x_p}\\nP_b': {P_b_p}\",\n",
    "        title=\"With eq\",\n",
    "        style=\"bold yellow\" if np.abs(np.round(x_p, 1) - x_p) > 0.015 else \"bold green\",\n",
    "    )\n",
    ")\n",
    "if np.abs(np.round(x_p, 1) - x_p) > 0.01:\n",
    "    print(\"revisar con la tabla\")"
   ]
  },
  {
   "cell_type": "markdown",
   "metadata": {},
   "source": [
    "# Learning rate"
   ]
  },
  {
   "cell_type": "code",
   "execution_count": 97,
   "metadata": {},
   "outputs": [],
   "source": [
    "def get_sorted_coef(coef,n):\n",
    "  if type(coef)==list:\n",
    "    return coef\n",
    "  return [coef[sp.Symbol(\"C_{\"+str(i)+\",\"+str(n)+\"}\")] for i in range(1-LTE[0],LTE[1]+1)]"
   ]
  },
  {
   "cell_type": "code",
   "execution_count": 98,
   "metadata": {},
   "outputs": [],
   "source": [
    "def compute_y(z_arr,z_0,coef,n,LTE):\n",
    "  scoef=get_sorted_coef(coef,n)\n",
    "  return sum([z*c for z,c in zip(z_arr[z_0-LTE[1]:z_0+LTE[0]],scoef[::-1])])"
   ]
  },
  {
   "cell_type": "code",
   "execution_count": 99,
   "metadata": {},
   "outputs": [],
   "source": [
    "def compute_delta(coef,n,delta,z_arr,z_0,diff,LTE):\n",
    "  scoef=get_sorted_coef(coef,n)\n",
    "  y=compute_y(z_arr,z_0,coef,n,LTE)\n",
    "  print(\"y[\"+str(n)+\"] =\",y,\"e[\"+str(n)+\"]\", y-np.sign(y),)\n",
    "  print(\"C[\"+str(n)+\"] =\", scoef[LTE[0]-1])\n",
    "  eq=(delta)*np.abs(y-np.sign(y))*z_arr[z_0]-diff*scoef[LTE[0]-1]\n",
    "  return np.abs(sp.solve(eq)[0])"
   ]
  },
  {
   "cell_type": "code",
   "execution_count": 100,
   "metadata": {},
   "outputs": [],
   "source": [
    "def compute_next_coef(coef,n,delta,z_arr,z_0,LTE):\n",
    "  scoef=get_sorted_coef(coef,n)\n",
    "  y=compute_y(z_arr,z_0,coef,n,LTE)\n",
    "  print(\"y[\"+str(n)+\"] =\",y,\"e[\"+str(n)+\"]\", y-np.sign(y),)\n",
    "  nextcoef=[c-delta*(y-np.sign(y))*z\n",
    "            for c,z in zip(scoef[::-1],\n",
    "                              z_arr[z_0-LTE[1]:z_0+LTE[0]])]\n",
    "  return nextcoef"
   ]
  },
  {
   "cell_type": "code",
   "execution_count": 101,
   "metadata": {},
   "outputs": [
    {
     "name": "stdout",
     "output_type": "stream",
     "text": [
      "y[0] = -0.497921862011638 e[0] 0.502078137988362\n"
     ]
    },
    {
     "data": {
      "image/png": "[encoded data removed]",
      "text/latex": [
       "$\\displaystyle 0.332502078137988 - 0.627597672485453 \\Delta$"
      ],
      "text/plain": [
       "0.332502078137988 - 0.627597672485453⋅Δ"
      ]
     },
     "metadata": {},
     "output_type": "display_data"
    },
    {
     "data": {
      "image/png": "[encoded data removed]",
      "text/latex": [
       "$\\displaystyle 0.577389858686617 \\Delta + 0.133000831255195$"
      ],
      "text/plain": [
       "0.577389858686617⋅Δ + 0.133000831255195"
      ]
     },
     "metadata": {},
     "output_type": "display_data"
    },
    {
     "data": {
      "image/png": "[encoded data removed]",
      "text/latex": [
       "$\\displaystyle 0.426766417290108 \\Delta + 1.03906899418121$"
      ],
      "text/plain": [
       "0.426766417290108⋅Δ + 1.03906899418121"
      ]
     },
     "metadata": {},
     "output_type": "display_data"
    },
    {
     "data": {
      "image/png": "[encoded data removed]",
      "text/latex": [
       "$\\displaystyle 0.207813798836243 - 0.40166251039069 \\Delta$"
      ],
      "text/plain": [
       "0.207813798836243 - 0.40166251039069⋅Δ"
      ]
     },
     "metadata": {},
     "output_type": "display_data"
    },
    {
     "data": {
      "image/png": "[encoded data removed]",
      "text/latex": [
       "$\\displaystyle 0.527182044887781 \\Delta + 0.0415627597672485$"
      ],
      "text/plain": [
       "0.527182044887781⋅Δ + 0.0415627597672485"
      ]
     },
     "metadata": {},
     "output_type": "display_data"
    }
   ],
   "source": [
    "z=[.95,-1.05,0.8,-0.85,-1.15,1.25,-1.1]\n",
    "z_0=3\n",
    "delta=sp.Symbol(\"Delta\")\n",
    "nextcoef=compute_next_coef(coef_0,0,delta,z,z_0,LTE)[::-1]\n",
    "for eq in nextcoef:\n",
    "  display(eq)\n"
   ]
  },
  {
   "cell_type": "code",
   "execution_count": 102,
   "metadata": {},
   "outputs": [
    {
     "name": "stdout",
     "output_type": "stream",
     "text": [
      "y[0] = -0.497921862011638 e[0] 0.502078137988362\n",
      "C[0] = 1.03906899418121\n",
      "Δ = 0.170432411375146\n"
     ]
    }
   ],
   "source": [
    "diff=0.07\n",
    "delta_res=compute_delta(coef_0,0,delta,z,z_0,diff,LTE)\n",
    "print(\"Δ =\", delta_res)"
   ]
  },
  {
   "cell_type": "code",
   "execution_count": 103,
   "metadata": {},
   "outputs": [
    {
     "name": "stdout",
     "output_type": "stream",
     "text": [
      "y[0] = -0.497921862011638 e[0] 0.502078137988362\n",
      "C -2\n"
     ]
    },
    {
     "data": {
      "image/png": "[encoded data removed]",
      "text/latex": [
       "$\\displaystyle 0.225539093442863$"
      ],
      "text/plain": [
       "0.225539093442863"
      ]
     },
     "metadata": {},
     "output_type": "display_data"
    },
    {
     "name": "stdout",
     "output_type": "stream",
     "text": [
      "C -1\n"
     ]
    },
    {
     "data": {
      "image/png": "[encoded data removed]",
      "text/latex": [
       "$\\displaystyle 0.23140677717471$"
      ],
      "text/plain": [
       "0.231406777174710"
      ]
     },
     "metadata": {},
     "output_type": "display_data"
    },
    {
     "name": "stdout",
     "output_type": "stream",
     "text": [
      "C 0\n"
     ]
    },
    {
     "data": {
      "image/png": "[encoded data removed]",
      "text/latex": [
       "$\\displaystyle 1.1118038237739$"
      ],
      "text/plain": [
       "1.11180382377390"
      ]
     },
     "metadata": {},
     "output_type": "display_data"
    },
    {
     "name": "stdout",
     "output_type": "stream",
     "text": [
      "C 1\n"
     ]
    },
    {
     "data": {
      "image/png": "[encoded data removed]",
      "text/latex": [
       "$\\displaystyle 0.139357488631363$"
      ],
      "text/plain": [
       "0.139357488631363"
      ]
     },
     "metadata": {},
     "output_type": "display_data"
    },
    {
     "name": "stdout",
     "output_type": "stream",
     "text": [
      "C 2\n"
     ]
    },
    {
     "data": {
      "image/png": "[encoded data removed]",
      "text/latex": [
       "$\\displaystyle 0.131411666911154$"
      ],
      "text/plain": [
       "0.131411666911154"
      ]
     },
     "metadata": {},
     "output_type": "display_data"
    }
   ],
   "source": [
    "nextcoef1=compute_next_coef(coef_0,0,delta_res,z,z_0,LTE)[::-1]\n",
    "for i,eq in enumerate(nextcoef1):\n",
    "  print(\"C\",i-LTE[0]+1)\n",
    "  display(eq)"
   ]
  },
  {
   "cell_type": "code",
   "execution_count": 104,
   "metadata": {},
   "outputs": [
    {
     "name": "stdout",
     "output_type": "stream",
     "text": [
      "y[1] = -1.25073346046648 e[1] -0.250733460466481\n",
      "C -2\n"
     ]
    },
    {
     "data": {
      "image/png": "[encoded data removed]",
      "text/latex": [
       "$\\displaystyle 0.178532674335152$"
      ],
      "text/plain": [
       "0.178532674335152"
      ]
     },
     "metadata": {},
     "output_type": "display_data"
    },
    {
     "name": "stdout",
     "output_type": "stream",
     "text": [
      "C -1\n"
     ]
    },
    {
     "data": {
      "image/png": "[encoded data removed]",
      "text/latex": [
       "$\\displaystyle 0.284823162524382$"
      ],
      "text/plain": [
       "0.284823162524382"
      ]
     },
     "metadata": {},
     "output_type": "display_data"
    },
    {
     "name": "stdout",
     "output_type": "stream",
     "text": [
      "C 0\n"
     ]
    },
    {
     "data": {
      "image/png": "[encoded data removed]",
      "text/latex": [
       "$\\displaystyle 1.0626607492522$"
      ],
      "text/plain": [
       "1.06266074925220"
      ]
     },
     "metadata": {},
     "output_type": "display_data"
    },
    {
     "name": "stdout",
     "output_type": "stream",
     "text": [
      "C 1\n"
     ]
    },
    {
     "data": {
      "image/png": "[encoded data removed]",
      "text/latex": [
       "$\\displaystyle 0.103034346593586$"
      ],
      "text/plain": [
       "0.103034346593586"
      ]
     },
     "metadata": {},
     "output_type": "display_data"
    },
    {
     "name": "stdout",
     "output_type": "stream",
     "text": [
      "C 2\n"
     ]
    },
    {
     "data": {
      "image/png": "[encoded data removed]",
      "text/latex": [
       "$\\displaystyle 0.165598153534943$"
      ],
      "text/plain": [
       "0.165598153534943"
      ]
     },
     "metadata": {},
     "output_type": "display_data"
    }
   ],
   "source": [
    "nextcoef2=compute_next_coef(nextcoef1,1,delta_res,z,z_0+1,LTE)[::-1]\n",
    "for i,eq in enumerate(nextcoef2):\n",
    "  print(\"C\",i-LTE[0]+1)\n",
    "  display(eq)"
   ]
  },
  {
   "cell_type": "markdown",
   "metadata": {},
   "source": [
    "# DFE"
   ]
  },
  {
   "cell_type": "code",
   "execution_count": 105,
   "metadata": {},
   "outputs": [],
   "source": [
    "def compute_DFE(h_arr):\n",
    "  idx=len(h_arr)-get_last_zero(h_arr)\n",
    "  print(idx)\n",
    "  return[1/h_arr[idx]]+[-h/h_arr[idx] for h in h_arr[idx+1:]][:len(nextcoef)-1]"
   ]
  },
  {
   "cell_type": "code",
   "execution_count": 106,
   "metadata": {},
   "outputs": [
    {
     "name": "stdout",
     "output_type": "stream",
     "text": [
      "1\n"
     ]
    },
    {
     "data": {
      "image/png": "[encoded data removed]",
      "text/latex": [
       "$\\displaystyle \\left[ -10.0, \\  -3.0, \\  0.0, \\  10.0, \\  -2.0\\right]$"
      ],
      "text/plain": [
       "[-10.0, -2.9999999999999996, -0.0, 10.0, -2.0]"
      ]
     },
     "execution_count": 106,
     "metadata": {},
     "output_type": "execute_result"
    }
   ],
   "source": [
    "compute_DFE(h)"
   ]
  },
  {
   "cell_type": "code",
   "execution_count": null,
   "metadata": {},
   "outputs": [],
   "source": []
  }
 ],
 "metadata": {
  "kernelspec": {
   "display_name": "Python 3",
   "language": "python",
   "name": "python3"
  },
  "language_info": {
   "codemirror_mode": {
    "name": "ipython",
    "version": 3
   },
   "file_extension": ".py",
   "mimetype": "text/x-python",
   "name": "python",
   "nbconvert_exporter": "python",
   "pygments_lexer": "ipython3",
   "version": "3.12.2"
  }
 },
 "nbformat": 4,
 "nbformat_minor": 2
}
